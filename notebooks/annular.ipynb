{
 "cells": [
  {
   "cell_type": "markdown",
   "id": "3e12f614-9d3b-42d1-ae99-17f6b3d9c25c",
   "metadata": {},
   "source": [
    "# Independent Example 1 - Deflections in an Annular Ring"
   ]
  },
  {
   "cell_type": "markdown",
   "id": "0aab63a5-412e-4ecc-a775-781f6574fe5f",
   "metadata": {},
   "source": [
    "In this problem, we solve a physically meaningful membrane deflection scenario. The domain is an annular ring, with the outer boundary fixed, and the inner boundary free. In the initial case, a uniform distributed load (UDL) acts across the membrane, this is then developed into modelling a point load. Loads are defined conventionally upwards."
   ]
  },
  {
   "cell_type": "markdown",
   "id": "d0230276-d592-4e36-afaa-919fbc5e9118",
   "metadata": {},
   "source": [
    "We aim to compute the deflection $u(x,y)$, with outer radius $r_o$ and inner radius $r_i$, under an external pressure $p$.\n",
    "\\begin{align}\n",
    "-T\\nabla^2u = p && \\mathrm{in} && \\Omega = \\{(x,y)\\;|\\; r_i \\leq \\sqrt{x^2 + y^2} \\leq r_o\\}\\\\\n",
    "\\end{align}"
   ]
  },
  {
   "cell_type": "markdown",
   "id": "6a127a02-5f7a-4659-8db3-b5bf5d437d47",
   "metadata": {
    "tags": []
   },
   "source": [
    "\\begin{align}\n",
    "p(x,y) = p_0\\\\\n",
    "T(x,y) = T_0\n",
    "\\end{align}"
   ]
  },
  {
   "cell_type": "markdown",
   "id": "2b36dcec-f0c9-4dd2-805c-0d683aed9261",
   "metadata": {
    "tags": []
   },
   "source": [
    "## Case 1 - Thick Ring, UDL"
   ]
  },
  {
   "cell_type": "code",
   "execution_count": 1,
   "id": "b712d1ca-3387-40ce-a8ee-a7c81db19d26",
   "metadata": {
    "tags": []
   },
   "outputs": [],
   "source": [
    "import gmsh\n",
    "gmsh.initialize()\n",
    "gdim = 2\n",
    "gmsh.model.add(\"annular_ring\")"
   ]
  },
  {
   "cell_type": "code",
   "execution_count": 2,
   "id": "e3686e82-3bce-4a6a-aff0-95bd0321517a",
   "metadata": {
    "tags": []
   },
   "outputs": [
    {
     "name": "stdout",
     "output_type": "stream",
     "text": [
      "                                                                                                                                               \r"
     ]
    }
   ],
   "source": [
    "r_o = 1\n",
    "r_i = 0.2\n",
    "outer_disk = gmsh.model.occ.addDisk(0, 0, 0, r_o, r_o)\n",
    "inner_disk = gmsh.model.occ.addDisk(0, 0, 0, r_i, r_i)\n",
    "ring, _ = gmsh.model.occ.cut([(gdim, outer_disk)], [(gdim, inner_disk)])\n",
    "gmsh.model.occ.synchronize()\n",
    "#print(out_dim_tags)  # DEBUG: see what came out"
   ]
  },
  {
   "cell_type": "code",
   "execution_count": 3,
   "id": "ce322a7f-9a60-4f65-b339-0d7bdaded95e",
   "metadata": {
    "tags": []
   },
   "outputs": [],
   "source": [
    "membrane = ring[0][1]\n",
    "pg = gmsh.model.addPhysicalGroup(gdim, [membrane], 1)"
   ]
  },
  {
   "cell_type": "code",
   "execution_count": 4,
   "id": "ca196d73-87a0-435c-a11f-4c98c4c3a74d",
   "metadata": {
    "tags": []
   },
   "outputs": [
    {
     "name": "stdout",
     "output_type": "stream",
     "text": [
      "Info    : Meshing 1D...\n",
      "Info    : [  0%] Meshing curve 2 (Ellipse)\n",
      "Info    : [ 60%] Meshing curve 3 (Ellipse)\n",
      "Info    : Done meshing 1D (Wall 0.000382625s, CPU 0.000645s)\n",
      "Info    : Meshing 2D...\n",
      "Info    : Meshing surface 1 (Plane, Frontal-Delaunay)\n",
      "Info    : Done meshing 2D (Wall 0.0297822s, CPU 0.029307s)\n",
      "Info    : 1552 nodes 3106 elements\n"
     ]
    }
   ],
   "source": [
    "gmsh.option.setNumber(\"Mesh.CharacteristicLengthMin\", 0.05)\n",
    "gmsh.option.setNumber(\"Mesh.CharacteristicLengthMax\", 0.05)\n",
    "gmsh.model.mesh.generate(gdim)"
   ]
  },
  {
   "cell_type": "code",
   "execution_count": 5,
   "id": "94467f9a-7b0a-41a7-94d1-1d07bb115063",
   "metadata": {
    "tags": []
   },
   "outputs": [],
   "source": [
    "from dolfinx.io import gmshio\n",
    "from dolfinx.fem.petsc import LinearProblem\n",
    "from mpi4py import MPI\n",
    "\n",
    "gmsh_model_rank = 0\n",
    "mesh_comm = MPI.COMM_SELF\n",
    "domain, cell_markers, facet_markers = gmshio.model_to_mesh(gmsh.model, mesh_comm, gmsh_model_rank, gdim=gdim)\n",
    "tdim = domain.topology.dim # element topological dimension - cells are 2D in this case\n",
    "fdim = tdim - 1 # facets are therefore edges"
   ]
  },
  {
   "cell_type": "code",
   "execution_count": 6,
   "id": "5e2ff3ae-340e-4e82-b689-9c287f3203ea",
   "metadata": {
    "tags": []
   },
   "outputs": [],
   "source": [
    "from dolfinx import fem\n",
    "V = fem.functionspace(domain, (\"Lagrange\", 1))"
   ]
  },
  {
   "cell_type": "code",
   "execution_count": 7,
   "id": "5a6ecf10-c49b-43f2-9c46-5cc247cd5cee",
   "metadata": {
    "tags": []
   },
   "outputs": [],
   "source": [
    "import ufl\n",
    "from dolfinx import default_scalar_type\n",
    "x = ufl.SpatialCoordinate(domain)\n",
    "u = ufl.TrialFunction(V)\n",
    "v = ufl.TestFunction(V)\n",
    "T = fem.Constant(domain, default_scalar_type(1))\n",
    "p = fem.Constant(domain, default_scalar_type(1))"
   ]
  },
  {
   "cell_type": "code",
   "execution_count": 8,
   "id": "bc85c805-58d1-4610-a2a4-804dc28f0cc7",
   "metadata": {
    "tags": []
   },
   "outputs": [],
   "source": [
    "import numpy as np\n",
    "\n",
    "def on_outer_boundary(x):\n",
    "    return np.isclose(np.sqrt(x[0]**2 + x[1]**2), r_o)\n",
    "\n",
    "# Locate DOF on outer boundaries\n",
    "dof = fem.locate_dofs_geometrical(V, on_outer_boundary)\n",
    "\n",
    "# Apply Dirichlet BC\n",
    "bc = fem.dirichletbc(default_scalar_type(0), dof, V)"
   ]
  },
  {
   "cell_type": "code",
   "execution_count": 9,
   "id": "758413a2-ab46-4c27-88c2-78d549d6eb0f",
   "metadata": {
    "tags": []
   },
   "outputs": [],
   "source": [
    "a = ufl.dot(T * ufl.grad(u), ufl.grad(v)) * ufl.dx\n",
    "L = p * v * ufl.dx"
   ]
  },
  {
   "cell_type": "code",
   "execution_count": 10,
   "id": "5f260b5a-63aa-4588-a83d-339215099ec0",
   "metadata": {
    "tags": []
   },
   "outputs": [],
   "source": [
    "from dolfinx.fem.petsc import LinearProblem\n",
    "problem = LinearProblem(a, L, bcs=[bc], petsc_options={\"ksp_type\": \"preonly\", \"pc_type\": \"lu\"})\n",
    "uh = problem.solve()"
   ]
  },
  {
   "cell_type": "code",
   "execution_count": 11,
   "id": "6fda5a81-63d6-42cb-bc6e-9c140802fc2f",
   "metadata": {
    "tags": []
   },
   "outputs": [
    {
     "data": {
      "application/vnd.jupyter.widget-view+json": {
       "model_id": "72e32c54fb9640b2b4fa1a58ae8438b1",
       "version_major": 2,
       "version_minor": 0
      },
      "text/plain": [
       "Widget(value='<iframe src=\"http://localhost:53005/index.html?ui=P_0x17a965a90_0&reconnect=auto\" class=\"pyvista…"
      ]
     },
     "metadata": {},
     "output_type": "display_data"
    }
   ],
   "source": [
    "import pyvista\n",
    "from dolfinx import plot\n",
    " \n",
    "pyvista.set_jupyter_backend('trame')\n",
    "\n",
    "domain.topology.create_connectivity(tdim, tdim)\n",
    "u_top, u_cells, u_geom = plot.vtk_mesh(V)\n",
    "u_grid = pyvista.UnstructuredGrid(u_top, u_cells, u_geom)\n",
    "\n",
    "u_grid.point_data[\"u\"] = uh.x.array\n",
    "u_grid.set_active_scalars(\"u\")\n",
    "\n",
    "warp_grid = u_grid.warp_by_scalar(\"u\", factor=2)\n",
    "w_plotter = pyvista.Plotter()\n",
    "w_plotter.add_mesh(warp_grid, show_edges=False, show_scalar_bar=True)\n",
    "_ = w_plotter.screenshot(\"../plots/ind1-thickring.png\")\n",
    "w_plotter.show()"
   ]
  },
  {
   "cell_type": "markdown",
   "id": "9a65b7f2-20b0-497b-b7b6-bdcde6accad6",
   "metadata": {
    "tags": []
   },
   "source": [
    "### Solution\n",
    "![ThickRing](../plots/ind1-thickring.png)\n",
    "\n",
    "The uniform load produces axisymmetric deflection with maximum displacement $(\\sim0.21)$ at the free inner boundary. The smooth radial profile reflects the distributed nature of the loading, with steeper gradients near the fixed outer boundary satisfying the zero-displacement condition."
   ]
  },
  {
   "cell_type": "markdown",
   "id": "e1697c88-a7df-491e-93cb-c389f6e240d2",
   "metadata": {},
   "source": [
    "## Case 2 - Thin Ring, Point Load"
   ]
  },
  {
   "cell_type": "markdown",
   "id": "aaed82dc-33f0-4200-9622-1206685a23dc",
   "metadata": {},
   "source": [
    "To extend the problem, a more realistic loading scenario is considered - a point load. Mathematically this can be described using the Dirac delta function, characterised as below:\n",
    "\\begin{align}\n",
    "\\delta(x) = \\begin{cases} 0, & \\text{if } x \\neq 0, \\\\\n",
    "\\infty, & \\text{if } x = 0.\n",
    "\\end{cases} \\\\\n",
    "\\end{align}\n",
    "Where $\\delta(x)$ satisfies the integral:\n",
    "\\begin{align}\n",
    "\\int_{-\\infty}^{\\infty} \\delta(x) \\, dx = 1\n",
    "\\end{align}\n",
    "As no function can satisfy the above conditions, it cannot be modelled in FEniCSx. Instead, a bivariate Gaussian with circular symmetry is used [[1]](https://archive.lib.msu.edu/crcmath/math/math/g/g078.htm):\n",
    "\\begin{align}\n",
    "p(x, y) = \\frac{1}{2 \\pi \\sigma^2} \\exp \\left(\n",
    "- \\frac{(x - \\mu_X)^2 + (y - \\mu_Y)^2}{2 \\sigma^2}\n",
    "\\right)\n",
    "\\end{align}"
   ]
  },
  {
   "cell_type": "markdown",
   "id": "2b8a204e-6dc8-41d3-9695-5b90750aa9f2",
   "metadata": {},
   "source": [
    "$f(x,y)$ can be scaled by $A$ to provide the total integrated load strength, and $\\mu_X$ and $\\mu_Y$ represent the location of the peak load, $\\left(x_0,y_0\\right)$. Thus we have:\n",
    "\n",
    "\\begin{align}\n",
    "-T\\nabla^2u = \\frac{A}{2 \\pi \\sigma^2} \\exp \\left(\n",
    "- \\frac{1}{2\\sigma^2}\\left((x - x_0)^2 + (y - y_0)^2\\right)\n",
    "\\right)\n",
    "\\end{align}"
   ]
  },
  {
   "cell_type": "markdown",
   "id": "13bbb692-1ae6-460b-b0ff-8c3b5f16df31",
   "metadata": {},
   "source": [
    "Scaling this equation [[2]](https://jsdokken.com/dolfinx-tutorial/chapter1/membrane.html) collects terms of the same physical quantity. $D_e$ is the characteristic deflection. Starting with $R = R_o$,"
   ]
  },
  {
   "cell_type": "markdown",
   "id": "a8f40f2e-05b3-47fd-b656-8048114dc9d8",
   "metadata": {},
   "source": [
    "\\begin{align}\n",
    "\\bar{x} = \\frac{x}{R}, && \\bar{y} = \\frac{y}{R}, && \\bar{w} = \\frac{u}{D_e}, &&\n",
    "\\bar{x_0} = \\frac{x_0}{R}, && \\bar{y_0} = \\frac{y_0}{R} \\\\\n",
    "\\end{align}"
   ]
  },
  {
   "cell_type": "markdown",
   "id": "e58912e0-1927-4090-a8f8-fab76486c887",
   "metadata": {},
   "source": [
    "\\begin{align}\n",
    "w\\left(\\bar{x},\\bar{y}\\right) = \\frac{u\\left(x,y\\right)}{D_e}\n",
    "\\end{align}"
   ]
  },
  {
   "cell_type": "markdown",
   "id": "816b6af2-42b8-4881-9594-678a88ad959f",
   "metadata": {},
   "source": [
    "\\begin{align}\n",
    "\\bar{\\Omega} = \\{\\rho \\in \\left(\\rho_{in},1 \\right)\\}, && \\rho := \\frac{R_i}{R_o}\n",
    "\\end{align}"
   ]
  },
  {
   "cell_type": "markdown",
   "id": "4b799012-7ab9-4476-b480-573d2f8d3a4e",
   "metadata": {},
   "source": [
    "Taking the Laplacian of $w\\left(\\bar{x},\\bar{y}\\right)$ allows us to reformulate the PDE. Firstly, using the chain rule:"
   ]
  },
  {
   "cell_type": "markdown",
   "id": "ae4f7e1f-81a1-4cb6-bd0f-f92d48831ee4",
   "metadata": {},
   "source": [
    "\\begin{align}\n",
    "-T\\nabla^2u = p\\\\\n",
    "\\end{align}"
   ]
  },
  {
   "cell_type": "markdown",
   "id": "0bb6e90c-b102-40f4-9042-75473cef6100",
   "metadata": {},
   "source": [
    "\\begin{align}\n",
    "-T\\left(\\frac{\\partial^2u}{\\partial x^2} + \\frac{\\partial^2u}{\\partial y^2} \\right) = p(x,y)\n",
    "\\end{align}"
   ]
  },
  {
   "cell_type": "markdown",
   "id": "7f7f918b-26aa-4362-a6a0-368d97d2641f",
   "metadata": {},
   "source": [
    "\\begin{align}\n",
    "-T\\left[\\frac{D_e}{R^2} \\left(\\frac{\\partial^2w}{\\partial \\bar{x}^2} + \\frac{\\partial^2w}{\\partial \\bar{y}^2} \\right)\\right] = p(R\\bar{x},R\\bar{y})\n",
    "\\end{align}"
   ]
  },
  {
   "cell_type": "markdown",
   "id": "df50bb24-3a5b-4990-b9f8-71794875fff0",
   "metadata": {},
   "source": [
    "\\begin{align}\n",
    "-T\\left[\\frac{D_e}{R^2} \\left(\\frac{\\partial^2w}{\\partial \\bar{x}^2} + \\frac{\\partial^2w}{\\partial \\bar{y}^2} \\right)\\right] = \\frac{A}{2 \\pi \\sigma^2} \\exp \\left(\n",
    "- \\frac{1}{2\\sigma^2}\\left((R\\bar{x} - x_0)^2 + (R\\bar{y} - y_0)^2\\right)\n",
    "\\right)\n",
    "\\end{align}"
   ]
  },
  {
   "cell_type": "markdown",
   "id": "e4a81666-c737-4666-a402-8c304ed621e2",
   "metadata": {},
   "source": [
    "Thus we have:"
   ]
  },
  {
   "cell_type": "markdown",
   "id": "e11f5b5b-08b6-4427-98eb-848ab5d0173c",
   "metadata": {},
   "source": [
    "\\begin{align}\n",
    "-\\nabla^2w = \\alpha  \\exp \\left( -\\beta^2 \\left[ \\left( \\bar{x} - \\bar{x_0} \\right)^2 + \\left( \\bar{y} - \\bar{y_0} \\right)^2\n",
    " \\right]\n",
    "\\right)\n",
    "\\end{align}"
   ]
  },
  {
   "cell_type": "markdown",
   "id": "0300dd9c-3362-4b87-a8d7-6e309b0ddb0a",
   "metadata": {},
   "source": [
    "for:"
   ]
  },
  {
   "cell_type": "markdown",
   "id": "8b83cd2d-8a61-4f3a-8198-a269075b65c0",
   "metadata": {},
   "source": [
    "\\begin{align}\n",
    "\\alpha = \\frac{R^2A}{2 \\pi \\sigma^2 TD_e}, && \\beta^2 = \\frac{R^2}{2\\sigma^2}\n",
    "\\end{align}"
   ]
  },
  {
   "cell_type": "markdown",
   "id": "d84c447a-3adf-4169-bf9c-b8b775e3a931",
   "metadata": {},
   "source": [
    "We work in dimensionless units with $T_0=1$ and choose $D_e=1$ as our characteristic deflection scale. This choice, combined with our selection of $A=1$ for the integrated load strength, ensures all terms in the non-dimensional equation are $\\sim O(1)$."
   ]
  },
  {
   "cell_type": "markdown",
   "id": "286fcc91-ff07-43b7-8a2f-8aa38cc25cd6",
   "metadata": {
    "tags": []
   },
   "source": [
    "\\begin{align}\n",
    "-\\nabla^2w \\sim O(1)\n",
    "\\end{align}"
   ]
  },
  {
   "cell_type": "code",
   "execution_count": 12,
   "id": "178f74cd-555f-4c25-8dfe-57ddba3b3bba",
   "metadata": {
    "tags": []
   },
   "outputs": [
    {
     "name": "stdout",
     "output_type": "stream",
     "text": [
      "Info    : Meshing 1D...                                                                                                                        \n",
      "Info    : [  0%] Meshing curve 2 (Ellipse)\n",
      "Info    : [ 60%] Meshing curve 3 (Ellipse)\n",
      "Info    : Done meshing 1D (Wall 9.2e-05s, CPU 0.000234s)\n",
      "Info    : Meshing 2D...\n",
      "Info    : Meshing surface 1 (Plane, Frontal-Delaunay)\n",
      "Info    : Done meshing 2D (Wall 0.0128872s, CPU 0.020942s)\n",
      "Info    : 1247 nodes 2496 elements\n"
     ]
    }
   ],
   "source": [
    "gdim = 2\n",
    "gmsh.model.add(\"thin_ring\") # prefix t_~ refers to the thin domain\n",
    "t_r_o = 1\n",
    "t_r_i = 0.5\n",
    "t_outer_disk = gmsh.model.occ.addDisk(0, 0, 0, t_r_o, t_r_o)\n",
    "t_inner_disk = gmsh.model.occ.addDisk(0, 0, 0, t_r_i, t_r_i)\n",
    "t_ring, _ = gmsh.model.occ.cut([(gdim, t_outer_disk)], [(gdim, t_inner_disk)])\n",
    "gmsh.model.occ.synchronize()\n",
    "\n",
    "t_membrane = t_ring[0][1]\n",
    "pg2 = gmsh.model.addPhysicalGroup(gdim, [t_membrane], 1)\n",
    "\n",
    "gmsh.option.setNumber(\"Mesh.CharacteristicLengthMin\", 0.05)\n",
    "gmsh.option.setNumber(\"Mesh.CharacteristicLengthMax\", 0.05)\n",
    "gmsh.model.mesh.generate(gdim)\n",
    "\n",
    "from dolfinx.io import gmshio\n",
    "from dolfinx.fem.petsc import LinearProblem\n",
    "from mpi4py import MPI\n",
    "\n",
    "gmsh_model_rank = 0\n",
    "mesh_comm = MPI.COMM_SELF\n",
    "t_domain, cell_markers, facet_markers = gmshio.model_to_mesh(gmsh.model, mesh_comm, gmsh_model_rank, gdim=gdim)\n",
    "tdim = t_domain.topology.dim # element topological dimension - cells are 2D in this case\n",
    "fdim = tdim - 1 # facets are therefore edges\n",
    "\n",
    "from dolfinx import fem\n",
    "V = fem.functionspace(t_domain, (\"Lagrange\", 1))"
   ]
  },
  {
   "cell_type": "markdown",
   "id": "62b30a97-b61c-43b7-b381-b0fa795784fb",
   "metadata": {},
   "source": [
    "To maintain total source strength $ I_\\Omega \\sim O(1)$, we must scale $\\alpha$ with $\\beta$:"
   ]
  },
  {
   "cell_type": "markdown",
   "id": "cfcf256b-4e0c-4608-8a54-3fd20c43c835",
   "metadata": {},
   "source": [
    "\\begin{align}\n",
    "\\iint_\\Omega \\alpha  \\exp \\left( -\\beta^2 \\left[ \\left( \\bar{x} - \\bar{x_0} \\right)^2 + \\left( \\bar{y} - \\bar{y_0} \\right)^2\n",
    " \\right]\n",
    "\\right) d\\bar{x} d\\bar{y} = A \\sim O(1)\n",
    "\\end{align}"
   ]
  },
  {
   "cell_type": "markdown",
   "id": "8e30856b-ab55-4e02-8895-38153d32c36f",
   "metadata": {},
   "source": [
    "Defining $\\chi = \\bar{x} - x_0$ and $\\zeta = \\bar{y} - y_0$, we have:\n",
    "\\begin{align}\n",
    "d\\bar{x} d\\bar{y} = d\\chi d\\zeta\n",
    "\\end{align}"
   ]
  },
  {
   "cell_type": "markdown",
   "id": "0403c4d2-ca25-40e6-99ac-5701aab3bdfb",
   "metadata": {
    "tags": []
   },
   "source": [
    "\\begin{align}\n",
    "\\Omega' = \\{ \\left(\\chi,\\zeta \\right) \\;|\\; r_i \\leq \\sqrt{\\left(\\chi+x_0\\right)^2 + \\left(\\zeta+y_0\\right)^2} \\leq r_o\\ \\}\n",
    "\\end{align}"
   ]
  },
  {
   "cell_type": "markdown",
   "id": "dd2277b9-d178-41e9-bbc4-e67bb179b612",
   "metadata": {},
   "source": [
    "\\begin{align}\n",
    "A_{\\Omega'} = \\iint_{\\Omega'} \\alpha  \\exp \\left( -\\beta^2 \\left[ \\chi^2 + \\zeta^2 \\right]\\right) d\\chi d\\zeta \\sim O(1)\n",
    "\\end{align}"
   ]
  },
  {
   "cell_type": "markdown",
   "id": "e8ce4293-04aa-4971-8080-b4659f751022",
   "metadata": {},
   "source": [
    "When $\\beta$ is sufficiently large, such that the Gaussian is confined within the domain, we can use a standard solution as below. The co-efficient 3 is derived from the strength of the Gaussian - 99.7% is contained within 3$\\sigma$. The integral limit to infinity is valid for a rapidly decaying Gaussian."
   ]
  },
  {
   "cell_type": "markdown",
   "id": "50fa7de3-fcb5-4f83-a72b-1d3756d65e83",
   "metadata": {},
   "source": [
    "\\begin{align}\n",
    "\\Omega' \\supseteq B\\left(\\left(x_0,y_0\\right), \\frac{3}{\\beta}\\right)\n",
    "\\end{align}"
   ]
  },
  {
   "cell_type": "markdown",
   "id": "f1e77b81-0880-465c-b682-eb4fb4bff66c",
   "metadata": {},
   "source": [
    "\\begin{align}\n",
    "\\iint_{\\mathbb{R^2}} \\exp \\left( -\\beta^2 \\left[ \\chi^2 + \\zeta^2 \\right]\\right) d\\chi d\\zeta = \\frac{\\pi}{\\beta^2}\n",
    "\\end{align}"
   ]
  },
  {
   "cell_type": "markdown",
   "id": "14a8e38a-8039-4598-9315-9178c480f5d2",
   "metadata": {},
   "source": [
    "Therefore we have, for $T, D_e \\sim O(1)$:\n",
    "\\begin{align}\n",
    "A_{\\Omega'} \\approx \\alpha \\cdot \\frac{\\pi}{\\beta^2}\n",
    "\\end{align}\n",
    "\n",
    "And so:\n",
    "\\begin{align}\n",
    "\\alpha \\approx \\frac{A_{\\Omega'}\\beta^2}{\\pi}, && \\mathrm{if} &&r_o - r_i \\geq \\frac{3}{\\beta} \n",
    "\\end{align}"
   ]
  },
  {
   "cell_type": "markdown",
   "id": "6d63f626-986c-4309-b095-6b423ab1143f",
   "metadata": {},
   "source": [
    "We can choose a scalar $>3$, in this case $5$, to ensure compliance."
   ]
  },
  {
   "cell_type": "code",
   "execution_count": 13,
   "id": "ffa29d8f-5b8c-4ded-b65b-011de2f68da8",
   "metadata": {
    "tags": []
   },
   "outputs": [],
   "source": [
    "import ufl\n",
    "from dolfinx import default_scalar_type\n",
    "\n",
    "import numpy as np\n",
    "\n",
    "def on_outer_boundary(x):\n",
    "    return np.isclose(np.sqrt(x[0]**2 + x[1]**2), t_r_o)\n",
    "\n",
    "dof = fem.locate_dofs_geometrical(V, on_outer_boundary)\n",
    "\n",
    "# Apply Dirichlet BC\n",
    "bc = fem.dirichletbc(default_scalar_type(0), dof, V)"
   ]
  },
  {
   "cell_type": "code",
   "execution_count": 14,
   "id": "612cb0a3-15f4-42a6-8a8c-47875cd50495",
   "metadata": {
    "tags": []
   },
   "outputs": [],
   "source": [
    "import ufl\n",
    "from dolfinx import default_scalar_type\n",
    "x = ufl.SpatialCoordinate(t_domain)\n",
    "u = ufl.TrialFunction(V)\n",
    "v = ufl.TestFunction(V)\n",
    "\n",
    "A = 1 #Apply load ~ O(1)\n",
    "beta = 5/(t_r_o-t_r_i)\n",
    "alpha = A * beta**2 / np.pi\n",
    "x_0 = fem.Constant(t_domain, default_scalar_type(0.53))\n",
    "y_0 = fem.Constant(t_domain, default_scalar_type(0.53))\n",
    "p_point = alpha*ufl.exp(-beta**2 * ((x[0] - x_0)**2 + (x[1] - y_0)**2))\n",
    "\n",
    "\n",
    "a = ufl.dot(ufl.grad(u), ufl.grad(v)) * ufl.dx\n",
    "L = p_point * v * ufl.dx"
   ]
  },
  {
   "cell_type": "code",
   "execution_count": 15,
   "id": "5447d55a-e17f-4d2c-9a23-4243501fc4e8",
   "metadata": {
    "tags": []
   },
   "outputs": [],
   "source": [
    "problem = LinearProblem(a, L, bcs=[bc], petsc_options={\"ksp_type\": \"preonly\", \"pc_type\": \"lu\"})\n",
    "t_uh = problem.solve()"
   ]
  },
  {
   "cell_type": "code",
   "execution_count": 16,
   "id": "6f8c3f7f-e6d8-41df-91ab-581e929b3511",
   "metadata": {
    "tags": []
   },
   "outputs": [],
   "source": [
    "Q = fem.functionspace(t_domain, (\"Lagrange\", 4))\n",
    "expr = fem.Expression(p_point, Q.element.interpolation_points())\n",
    "pressure = fem.Function(Q)\n",
    "pressure.interpolate(expr)"
   ]
  },
  {
   "cell_type": "code",
   "execution_count": 17,
   "id": "53aa0c53-3e6f-4972-9cd2-bb096e755485",
   "metadata": {
    "tags": []
   },
   "outputs": [
    {
     "data": {
      "application/vnd.jupyter.widget-view+json": {
       "model_id": "e9b62cee468548df996e2dce4976f7d8",
       "version_major": 2,
       "version_minor": 0
      },
      "text/plain": [
       "Widget(value='<iframe src=\"http://localhost:53005/index.html?ui=P_0x315f78550_1&reconnect=auto\" class=\"pyvista…"
      ]
     },
     "metadata": {},
     "output_type": "display_data"
    }
   ],
   "source": [
    "from dolfinx.plot import vtk_mesh\n",
    "import pyvista\n",
    "pyvista.set_jupyter_backend('trame')\n",
    "\n",
    "# Extract topology from mesh and create pyvista mesh\n",
    "topology, cell_types, x = vtk_mesh(V)\n",
    "grid = pyvista.UnstructuredGrid(topology, cell_types, x)\n",
    "\n",
    "# Set deflection values and add it to plotter\n",
    "grid.point_data[\"u\"] = t_uh.x.array\n",
    "warped = grid.warp_by_scalar(\"u\", factor=2)\n",
    "\n",
    "plotter = pyvista.Plotter()\n",
    "plotter.add_mesh(warped, show_edges=False, show_scalar_bar=True, scalars=\"u\")\n",
    "_ = plotter.screenshot(\"../plots/ind1-thinring.png\")\n",
    "plotter.show()"
   ]
  },
  {
   "cell_type": "markdown",
   "id": "1aebd0a8-494d-4d62-a428-ad22318df532",
   "metadata": {
    "tags": []
   },
   "source": [
    "### Solution\n",
    "![ThinRing](../plots/ind1-thinring.png)\n",
    "\n",
    "The concentrated load creates a localized deflection peak $(\\sim0.31)$ near the load center at $(0.53,0.53)$. The rapid spatial decay demonstrates membrane tension redistributing the concentrated force across the domain. The Gaussian approximation width $(\\sigma \\approx 0.14)$ smooths the theoretical singularity of a true point load."
   ]
  }
 ],
 "metadata": {
  "kernelspec": {
   "display_name": "Python [conda env:fenicsx-env]",
   "language": "python",
   "name": "conda-env-fenicsx-env-py"
  },
  "language_info": {
   "codemirror_mode": {
    "name": "ipython",
    "version": 3
   },
   "file_extension": ".py",
   "mimetype": "text/x-python",
   "name": "python",
   "nbconvert_exporter": "python",
   "pygments_lexer": "ipython3",
   "version": "3.13.5"
  }
 },
 "nbformat": 4,
 "nbformat_minor": 5
}
