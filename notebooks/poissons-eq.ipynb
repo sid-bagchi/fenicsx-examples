{
 "cells": [
  {
   "cell_type": "markdown",
   "id": "e477702c-067a-4b0f-92f8-5d07fd9e9beb",
   "metadata": {
    "tags": []
   },
   "source": [
    "# Example 2 - Solving Poisson's Equation"
   ]
  },
  {
   "cell_type": "markdown",
   "id": "909ac4a2-fa50-429e-97a3-b0b44532fb6c",
   "metadata": {},
   "source": [
    "Completed following the tutorial provided by J. S. Dokken at [jsdokken.com](https://jsdokken.com/dolfinx-tutorial/chapter1/fundamentals.html). This notebook modifies several aspects, such as boundary conditions, to facilitate my own exploration. Distributed under the [Creative Commons Attribution 4.0 International License](https://creativecommons.org/licenses/by/4.0/)."
   ]
  },
  {
   "cell_type": "markdown",
   "id": "9d687503-50dd-4b48-9ce7-f3d959f3a48d",
   "metadata": {
    "tags": []
   },
   "source": [
    "## Mathematical Background"
   ]
  },
  {
   "cell_type": "markdown",
   "id": "73d922b0-3493-4725-9de5-50ed996775fc",
   "metadata": {},
   "source": [
    "To summarise the mathematical background, we are solving the Poisson Equation:\n",
    "\n",
    "\\begin{align}\n",
    "-\\nabla^2 u(\\mathbf{x}) &= f(\\boldsymbol{\\mathbf{x}}) && \\mathbf{x} \\in \\Omega\\\\\n",
    "u(\\mathbf{x}) &= u_D(\\mathbf{x})&& \\mathbf{x} \\in \\partial\\Omega\n",
    "\\end{align}"
   ]
  },
  {
   "cell_type": "markdown",
   "id": "b81f762a-5026-4482-93d5-a8c6676c25e8",
   "metadata": {},
   "source": [
    "Here, $u(\\mathbf{x})$ is an unknown quantity, and $f(\\mathbf{x})$ the source term (typically zero, and in this case we have Laplace's equation). $\\Omega$ is the spatial domain, and $\\partial\\Omega$ its boundary. This form appears in equations for electrostatics, gravitation, and diffusion processes [(Hunt, 2002)](https://www.damtp.cam.ac.uk/user/reh10/lectures/nst-mmii-chapter2.pdf)."
   ]
  },
  {
   "cell_type": "markdown",
   "id": "d7d2e4c7-0863-45a0-8a9e-48819ecda294",
   "metadata": {},
   "source": [
    "As noted in the tutorial, $\\Omega$, $u_D$, and $f$ need to be specified. For the former, a unit square $\\Omega =[0,1] \\times [0,1]$ is the simplest choice. Let $u_e(x,y) = x^2 + y^2 + 2$. \n",
    "\\begin{align}\n",
    "f(x,y) = -\\nabla^2 u_e(x,y) \\\\\n",
    "\\end{align}\n",
    "\n",
    "\\begin{align}\n",
    "\\Delta u_e =  \\frac{\\partial^2}{\\partial x^2}(x^2 + y^2 + 2) + \\frac{\\partial^2}{\\partial y^2}(x^2 + y^2 + 2) \\\\\n",
    "\\end{align}\n",
    "\n",
    "And thus,\n",
    "\\begin{align}\n",
    "f = -4, && u_D(x,y) = x^2 + y^2 + 2\n",
    "\\end{align}"
   ]
  },
  {
   "cell_type": "markdown",
   "id": "30c6d949-fdea-4d12-a7bd-6bca491abf7f",
   "metadata": {
    "tags": []
   },
   "source": [
    "## Mesh and FE Space"
   ]
  },
  {
   "cell_type": "markdown",
   "id": "0274df34-49ca-4825-ac4f-a3c737d475b2",
   "metadata": {},
   "source": [
    "First we build a unit square mesh with quad elements, 4 in each direction."
   ]
  },
  {
   "cell_type": "code",
   "execution_count": 1,
   "id": "4d0cf0d8-e2bb-43af-b65a-f69516966b42",
   "metadata": {
    "tags": []
   },
   "outputs": [],
   "source": [
    "from mpi4py import MPI\n",
    "from dolfinx import mesh\n",
    "domain = mesh.create_unit_square(MPI.COMM_SELF, 4, 4, mesh.CellType.quadrilateral)"
   ]
  },
  {
   "cell_type": "markdown",
   "id": "d0691a09-0a74-4e63-8c3b-5d5365d78512",
   "metadata": {},
   "source": [
    "We then create the finite element space, apply the boundary data (solutions) to all DoFs on the boundary, then create and apply the Dirichlet boundary condition. Dirichlet boundary conditions are fixed - the values of the solution do not change at their respective boundary points."
   ]
  },
  {
   "cell_type": "code",
   "execution_count": 2,
   "id": "e28d892c-9577-4879-ba10-ae150bfca5ea",
   "metadata": {
    "tags": []
   },
   "outputs": [],
   "source": [
    "from dolfinx.fem import functionspace\n",
    "from dolfinx import fem\n",
    "import numpy\n",
    "\n",
    "V = functionspace(domain, ('Lagrange', 1))\n",
    "uD = fem.Function(V)\n",
    "uD.interpolate(lambda x: 2 + x[0]**2 + x[1]**2)\n",
    "\n",
    "tdim = domain.topology.dim # element topological dimension - cells are 2D in this case\n",
    "fdim = tdim - 1 # facets are therefore edges\n",
    "\n",
    "domain.topology.create_connectivity(fdim, tdim)\n",
    "boundary_facets = mesh.exterior_facet_indices(domain.topology)\n",
    "\n",
    "boundary_dofs = fem.locate_dofs_topological(V, fdim, boundary_facets)\n",
    "bc = fem.dirichletbc(uD, boundary_dofs)"
   ]
  },
  {
   "cell_type": "markdown",
   "id": "696adf13-1677-4063-80ed-0dc30591f543",
   "metadata": {},
   "source": [
    "## The Variational Problem"
   ]
  },
  {
   "cell_type": "markdown",
   "id": "2c0ceaa5-abdf-4b3d-aab8-3bf7ecd1256a",
   "metadata": {},
   "source": [
    "In the function space $V$, we now draw two functions. The first, the trial, is the unknown solution we wish to find, and the second, the test, acts as an independent probe to weight the Galerkin residuals, formulating the weak (variational) form. In FEniCSx we draw both from the same function space as $V$ itself does not enforce boundary conditions. Thus we can maintain symmetry, and keep the implementation simpler."
   ]
  },
  {
   "cell_type": "code",
   "execution_count": 3,
   "id": "0d3e29ce-30cc-4151-929c-a54d340cb5ac",
   "metadata": {
    "tags": []
   },
   "outputs": [],
   "source": [
    "import ufl\n",
    "u = ufl.TrialFunction(V)\n",
    "v = ufl.TestFunction(V)"
   ]
  },
  {
   "cell_type": "code",
   "execution_count": 4,
   "id": "d1847842-ed25-49f3-8153-d6511d892e94",
   "metadata": {},
   "outputs": [],
   "source": [
    "from dolfinx import default_scalar_type\n",
    "f = fem.Constant(domain, default_scalar_type(-4)) # As noted by Dokker this expression improves compilation"
   ]
  },
  {
   "cell_type": "markdown",
   "id": "7aeac39a-b897-4e65-9b41-8bb2d0ef3687",
   "metadata": {},
   "source": [
    "Now we define the variational problem."
   ]
  },
  {
   "cell_type": "code",
   "execution_count": 5,
   "id": "b49f2b57-eb38-4b2f-b99b-4263d19122e6",
   "metadata": {},
   "outputs": [],
   "source": [
    "a = ufl.dot(ufl.grad(u), ufl.grad(v)) * ufl.dx\n",
    "L = f * v * ufl.dx"
   ]
  },
  {
   "cell_type": "markdown",
   "id": "407546cf-3005-4e49-bd32-231b052dc23d",
   "metadata": {},
   "source": [
    "The DOLFINx wrapper for PETSc is used to solve the variational problem."
   ]
  },
  {
   "cell_type": "code",
   "execution_count": 6,
   "id": "b34ca69b-a892-41eb-bc99-c45e57a169ee",
   "metadata": {},
   "outputs": [],
   "source": [
    "from dolfinx.fem.petsc import LinearProblem\n",
    "problem = LinearProblem(a, L, bcs=[bc], petsc_options={\"ksp_type\": \"preonly\", \"pc_type\": \"lu\"})\n",
    "uh = problem.solve()"
   ]
  },
  {
   "cell_type": "markdown",
   "id": "7a1ea981-195e-4799-9802-24f12d81be69",
   "metadata": {},
   "source": [
    "## Error and Accuracy"
   ]
  },
  {
   "cell_type": "markdown",
   "id": "584fb20a-7021-4d54-aeaf-aafd19d05ccd",
   "metadata": {},
   "source": [
    "We now interpolate the exact solution into a higher-order space, the $P2$-space, to check the solution accuracy."
   ]
  },
  {
   "cell_type": "code",
   "execution_count": 7,
   "id": "12427159-c2c7-4324-8d55-7a30c0ef830f",
   "metadata": {},
   "outputs": [],
   "source": [
    "V2 = fem.functionspace(domain, (\"Lagrange\", 2))\n",
    "uex = fem.Function(V2)\n",
    "uex.interpolate(lambda x: 2 + x[0]**2 + x[1]**2)"
   ]
  },
  {
   "cell_type": "markdown",
   "id": "8046db4f-10fb-4b54-b4b3-2822f06b9113",
   "metadata": {},
   "source": [
    "The scalar form of the $L^2$-norm is computed, as well as the maximum error at any DoF."
   ]
  },
  {
   "cell_type": "code",
   "execution_count": 8,
   "id": "05e920a7-a67a-4a62-b14b-db0aefa0263e",
   "metadata": {
    "tags": []
   },
   "outputs": [
    {
     "name": "stdout",
     "output_type": "stream",
     "text": [
      "Error_L2 : 2.19e-02\n",
      "Error_max : 8.88e-16\n"
     ]
    }
   ],
   "source": [
    "L2_error = fem.form(ufl.inner(uh - uex, uh - uex) * ufl.dx)\n",
    "error_local = fem.assemble_scalar(L2_error)\n",
    "error_L2 = numpy.sqrt(error_local)\n",
    "\n",
    "error_max = numpy.max(numpy.abs(uD.x.array-uh.x.array))\n",
    "print(f\"Error_L2 : {error_L2:.2e}\")\n",
    "print(f\"Error_max : {error_max:.2e}\")"
   ]
  },
  {
   "cell_type": "markdown",
   "id": "2d73a42e-3049-4b96-a364-a2c1dad73631",
   "metadata": {},
   "source": [
    "## Visualisation"
   ]
  },
  {
   "cell_type": "markdown",
   "id": "e2e62b3b-1720-4d83-9b1c-284f79349590",
   "metadata": {},
   "source": [
    "The mesh and solution can be visualised using the `pyvista` library to create inline interactive plots."
   ]
  },
  {
   "cell_type": "code",
   "execution_count": 9,
   "id": "5c25ef46-ea40-459b-91eb-fe17f170dc74",
   "metadata": {
    "tags": []
   },
   "outputs": [
    {
     "data": {
      "application/vnd.jupyter.widget-view+json": {
       "model_id": "0e91510d352c4757ace94022f30ec887",
       "version_major": 2,
       "version_minor": 0
      },
      "text/plain": [
       "Widget(value='<iframe src=\"http://localhost:57787/index.html?ui=P_0x175fe9010_0&reconnect=auto\" class=\"pyvista…"
      ]
     },
     "metadata": {},
     "output_type": "display_data"
    }
   ],
   "source": [
    "import pyvista\n",
    "from dolfinx import plot\n",
    " \n",
    "pyvista.set_jupyter_backend('trame')\n",
    "\n",
    "domain.topology.create_connectivity(tdim, tdim)\n",
    "top, cells, geom = plot.vtk_mesh(domain, tdim)\n",
    "grid = pyvista.UnstructuredGrid(top, cells, geom)\n",
    "\n",
    "plotter = pyvista.Plotter()\n",
    "plotter.add_mesh(grid, show_edges=True)\n",
    "plotter.view_xy()\n",
    "\n",
    "plotter.show()\n",
    "_ = plotter.screenshot(\"../plots/ex2-mesh.png\")"
   ]
  },
  {
   "cell_type": "markdown",
   "id": "38da07cf-8969-45aa-9a63-6e2f02978c57",
   "metadata": {},
   "source": [
    "### Mesh\n",
    "![Mesh](../plots/ex2-mesh.png)"
   ]
  },
  {
   "cell_type": "code",
   "execution_count": 10,
   "id": "b71f5f5a-2947-4166-bfea-b268a6aae66c",
   "metadata": {
    "tags": []
   },
   "outputs": [
    {
     "data": {
      "application/vnd.jupyter.widget-view+json": {
       "model_id": "6a23bed0f9b045db9d3bb6789a591844",
       "version_major": 2,
       "version_minor": 0
      },
      "text/plain": [
       "Widget(value='<iframe src=\"http://localhost:57787/index.html?ui=P_0x137d12fd0_1&reconnect=auto\" class=\"pyvista…"
      ]
     },
     "metadata": {},
     "output_type": "display_data"
    }
   ],
   "source": [
    "u_top, u_cells, u_geom = plot.vtk_mesh(V)\n",
    "u_grid = pyvista.UnstructuredGrid(u_top, u_cells, u_geom)\n",
    "u_grid.point_data[\"u\"] = uh.x.array.real\n",
    "u_grid.set_active_scalars(\"u\")\n",
    "u_plotter = pyvista.Plotter()\n",
    "u_plotter.add_mesh(u_grid, show_edges=True)\n",
    "u_plotter.view_xy()\n",
    "u_plotter.show()\n",
    "_ = u_plotter.screenshot(\"../plots/ex2-sol.png\")"
   ]
  },
  {
   "cell_type": "markdown",
   "id": "4f2b1855-4989-4e02-82ea-05f8956e55bb",
   "metadata": {},
   "source": [
    "### Solution\n",
    "![Mesh](../plots/ex2-sol.png)"
   ]
  },
  {
   "cell_type": "markdown",
   "id": "5bb847ec-1076-4894-8475-f1ea10836da1",
   "metadata": {},
   "source": [
    "Finally the mesh can be warped by a scalar, allowing the solution magnitude to be viewed as a height map."
   ]
  },
  {
   "cell_type": "code",
   "execution_count": 11,
   "id": "addfe03f-bcbf-4f7d-95cb-e5fe3f272681",
   "metadata": {
    "tags": []
   },
   "outputs": [
    {
     "data": {
      "application/vnd.jupyter.widget-view+json": {
       "model_id": "0fc46c15de8c4666abfbbca7f80849a4",
       "version_major": 2,
       "version_minor": 0
      },
      "text/plain": [
       "Widget(value='<iframe src=\"http://localhost:57787/index.html?ui=P_0x302c07250_2&reconnect=auto\" class=\"pyvista…"
      ]
     },
     "metadata": {},
     "output_type": "display_data"
    }
   ],
   "source": [
    "warp_grid = u_grid.warp_by_scalar()\n",
    "w_plotter = pyvista.Plotter()\n",
    "w_plotter.add_mesh(warp_grid, show_edges=True, show_scalar_bar=True)\n",
    "w_plotter.show()\n",
    "_ = w_plotter.screenshot(\"../plots/ex2-warp.png\")"
   ]
  },
  {
   "cell_type": "markdown",
   "id": "0209af0f-613f-4660-a7af-639d80bb73fe",
   "metadata": {},
   "source": [
    "### Warped Solution\n",
    "![Warped Solution](../plots/ex2-warp.png)"
   ]
  }
 ],
 "metadata": {
  "kernelspec": {
   "display_name": "Python [conda env:fenicsx-env]",
   "language": "python",
   "name": "conda-env-fenicsx-env-py"
  },
  "language_info": {
   "codemirror_mode": {
    "name": "ipython",
    "version": 3
   },
   "file_extension": ".py",
   "mimetype": "text/x-python",
   "name": "python",
   "nbconvert_exporter": "python",
   "pygments_lexer": "ipython3",
   "version": "3.13.5"
  }
 },
 "nbformat": 4,
 "nbformat_minor": 5
}
